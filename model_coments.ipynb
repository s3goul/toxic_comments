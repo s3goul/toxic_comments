{
 "cells": [
  {
   "cell_type": "code",
   "execution_count": 3,
   "id": "c090d63a",
   "metadata": {},
   "outputs": [
    {
     "name": "stderr",
     "output_type": "stream",
     "text": [
      "[nltk_data] Downloading package stopwords to\n",
      "[nltk_data]     C:\\Users\\Admin\\AppData\\Roaming\\nltk_data...\n",
      "[nltk_data]   Package stopwords is already up-to-date!\n",
      "[nltk_data] Downloading package punkt to\n",
      "[nltk_data]     C:\\Users\\Admin\\AppData\\Roaming\\nltk_data...\n",
      "[nltk_data]   Package punkt is already up-to-date!\n"
     ]
    }
   ],
   "source": [
    "import pandas as pd\n",
    "from sklearn.model_selection import train_test_split\n",
    "import nltk\n",
    "import string\n",
    "from nltk.corpus import stopwords\n",
    "from nltk.tokenize import word_tokenize\n",
    "from nltk.stem import SnowballStemmer\n",
    "nltk.download('stopwords')\n",
    "nltk.download('punkt')\n",
    "from sklearn.pipeline import Pipeline\n",
    "from sklearn.linear_model import LogisticRegression\n",
    "from sklearn.feature_extraction.text import TfidfVectorizer\n",
    "from sklearn.metrics import precision_score, recall_score, precision_recall_curve, accuracy_score\n",
    "from matplotlib import pyplot as plt\n",
    "from sklearn.metrics import plot_precision_recall_curve\n",
    "import numpy as np\n",
    "from sklearn.model_selection import GridSearchCV"
   ]
  },
  {
   "cell_type": "markdown",
   "id": "8efa365e",
   "metadata": {},
   "source": [
    "Подгрузил все необходимые библиотеки для дальнейшей работы."
   ]
  },
  {
   "cell_type": "code",
   "execution_count": 4,
   "id": "bf2bf408",
   "metadata": {},
   "outputs": [
    {
     "data": {
      "text/html": [
       "<div>\n",
       "<style scoped>\n",
       "    .dataframe tbody tr th:only-of-type {\n",
       "        vertical-align: middle;\n",
       "    }\n",
       "\n",
       "    .dataframe tbody tr th {\n",
       "        vertical-align: top;\n",
       "    }\n",
       "\n",
       "    .dataframe thead th {\n",
       "        text-align: right;\n",
       "    }\n",
       "</style>\n",
       "<table border=\"1\" class=\"dataframe\">\n",
       "  <thead>\n",
       "    <tr style=\"text-align: right;\">\n",
       "      <th></th>\n",
       "      <th>comment</th>\n",
       "      <th>toxic</th>\n",
       "    </tr>\n",
       "  </thead>\n",
       "  <tbody>\n",
       "    <tr>\n",
       "      <th>0</th>\n",
       "      <td>Верблюдов-то за что? Дебилы, бл...\\n</td>\n",
       "      <td>1.0</td>\n",
       "    </tr>\n",
       "    <tr>\n",
       "      <th>1</th>\n",
       "      <td>Хохлы, это отдушина затюканого россиянина, мол...</td>\n",
       "      <td>1.0</td>\n",
       "    </tr>\n",
       "    <tr>\n",
       "      <th>2</th>\n",
       "      <td>Собаке - собачья смерть\\n</td>\n",
       "      <td>1.0</td>\n",
       "    </tr>\n",
       "    <tr>\n",
       "      <th>3</th>\n",
       "      <td>Страницу обнови, дебил. Это тоже не оскорблени...</td>\n",
       "      <td>1.0</td>\n",
       "    </tr>\n",
       "    <tr>\n",
       "      <th>4</th>\n",
       "      <td>тебя не убедил 6-страничный пдф в том, что Скр...</td>\n",
       "      <td>1.0</td>\n",
       "    </tr>\n",
       "  </tbody>\n",
       "</table>\n",
       "</div>"
      ],
      "text/plain": [
       "                                             comment  toxic\n",
       "0               Верблюдов-то за что? Дебилы, бл...\\n    1.0\n",
       "1  Хохлы, это отдушина затюканого россиянина, мол...    1.0\n",
       "2                          Собаке - собачья смерть\\n    1.0\n",
       "3  Страницу обнови, дебил. Это тоже не оскорблени...    1.0\n",
       "4  тебя не убедил 6-страничный пдф в том, что Скр...    1.0"
      ]
     },
     "execution_count": 4,
     "metadata": {},
     "output_type": "execute_result"
    }
   ],
   "source": [
    "df = pd.read_csv(\"labeled.csv\", sep=\",\") #изначальный датасет\n",
    "df.head() "
   ]
  },
  {
   "cell_type": "code",
   "execution_count": 5,
   "id": "b6a0ed7b",
   "metadata": {},
   "outputs": [
    {
     "data": {
      "text/html": [
       "<div>\n",
       "<style scoped>\n",
       "    .dataframe tbody tr th:only-of-type {\n",
       "        vertical-align: middle;\n",
       "    }\n",
       "\n",
       "    .dataframe tbody tr th {\n",
       "        vertical-align: top;\n",
       "    }\n",
       "\n",
       "    .dataframe thead th {\n",
       "        text-align: right;\n",
       "    }\n",
       "</style>\n",
       "<table border=\"1\" class=\"dataframe\">\n",
       "  <thead>\n",
       "    <tr style=\"text-align: right;\">\n",
       "      <th></th>\n",
       "      <th>comment</th>\n",
       "      <th>toxic</th>\n",
       "    </tr>\n",
       "  </thead>\n",
       "  <tbody>\n",
       "    <tr>\n",
       "      <th>0</th>\n",
       "      <td>Верблюдов-то за что? Дебилы, бл...\\n</td>\n",
       "      <td>1</td>\n",
       "    </tr>\n",
       "    <tr>\n",
       "      <th>1</th>\n",
       "      <td>Хохлы, это отдушина затюканого россиянина, мол...</td>\n",
       "      <td>1</td>\n",
       "    </tr>\n",
       "    <tr>\n",
       "      <th>2</th>\n",
       "      <td>Собаке - собачья смерть\\n</td>\n",
       "      <td>1</td>\n",
       "    </tr>\n",
       "    <tr>\n",
       "      <th>3</th>\n",
       "      <td>Страницу обнови, дебил. Это тоже не оскорблени...</td>\n",
       "      <td>1</td>\n",
       "    </tr>\n",
       "    <tr>\n",
       "      <th>4</th>\n",
       "      <td>тебя не убедил 6-страничный пдф в том, что Скр...</td>\n",
       "      <td>1</td>\n",
       "    </tr>\n",
       "  </tbody>\n",
       "</table>\n",
       "</div>"
      ],
      "text/plain": [
       "                                             comment  toxic\n",
       "0               Верблюдов-то за что? Дебилы, бл...\\n      1\n",
       "1  Хохлы, это отдушина затюканого россиянина, мол...      1\n",
       "2                          Собаке - собачья смерть\\n      1\n",
       "3  Страницу обнови, дебил. Это тоже не оскорблени...      1\n",
       "4  тебя не убедил 6-страничный пдф в том, что Скр...      1"
      ]
     },
     "execution_count": 5,
     "metadata": {},
     "output_type": "execute_result"
    }
   ],
   "source": [
    "df[\"toxic\"] = df[\"toxic\"].apply(int) #так как все значения токсичности целочисленные, я изменил тип на int\n",
    "df.head()"
   ]
  },
  {
   "cell_type": "code",
   "execution_count": 6,
   "id": "3a22000e",
   "metadata": {},
   "outputs": [
    {
     "data": {
      "text/plain": [
       "(14412, 2)"
      ]
     },
     "execution_count": 6,
     "metadata": {},
     "output_type": "execute_result"
    }
   ],
   "source": [
    "df.shape"
   ]
  },
  {
   "cell_type": "code",
   "execution_count": 7,
   "id": "e25dfcd2",
   "metadata": {},
   "outputs": [
    {
     "data": {
      "text/plain": [
       "0    9586\n",
       "1    4826\n",
       "Name: toxic, dtype: int64"
      ]
     },
     "execution_count": 7,
     "metadata": {},
     "output_type": "execute_result"
    }
   ],
   "source": [
    "df[\"toxic\"].value_counts() #количество положительных и отрицательных комментариев"
   ]
  },
  {
   "cell_type": "code",
   "execution_count": 8,
   "id": "b0ceb09c",
   "metadata": {},
   "outputs": [
    {
     "data": {
      "text/html": [
       "<div>\n",
       "<style scoped>\n",
       "    .dataframe tbody tr th:only-of-type {\n",
       "        vertical-align: middle;\n",
       "    }\n",
       "\n",
       "    .dataframe tbody tr th {\n",
       "        vertical-align: top;\n",
       "    }\n",
       "\n",
       "    .dataframe thead th {\n",
       "        text-align: right;\n",
       "    }\n",
       "</style>\n",
       "<table border=\"1\" class=\"dataframe\">\n",
       "  <thead>\n",
       "    <tr style=\"text-align: right;\">\n",
       "      <th></th>\n",
       "      <th>comment</th>\n",
       "      <th>toxic</th>\n",
       "    </tr>\n",
       "  </thead>\n",
       "  <tbody>\n",
       "    <tr>\n",
       "      <th>10942</th>\n",
       "      <td>Етить налево, ох уж мне эта эпопея тупых баб, ...</td>\n",
       "      <td>1</td>\n",
       "    </tr>\n",
       "    <tr>\n",
       "      <th>6276</th>\n",
       "      <td>Точно так же я не верю что тут есть проплаченн...</td>\n",
       "      <td>1</td>\n",
       "    </tr>\n",
       "    <tr>\n",
       "      <th>795</th>\n",
       "      <td>ебать ты конченый, нахуя ты это постишь?\\n</td>\n",
       "      <td>1</td>\n",
       "    </tr>\n",
       "    <tr>\n",
       "      <th>10979</th>\n",
       "      <td>фуры с тварями за рулем никак не передохнут!!!...</td>\n",
       "      <td>1</td>\n",
       "    </tr>\n",
       "    <tr>\n",
       "      <th>5620</th>\n",
       "      <td>Просто ты пидор, поэтому тебя и посещают такие...</td>\n",
       "      <td>1</td>\n",
       "    </tr>\n",
       "  </tbody>\n",
       "</table>\n",
       "</div>"
      ],
      "text/plain": [
       "                                                 comment  toxic\n",
       "10942  Етить налево, ох уж мне эта эпопея тупых баб, ...      1\n",
       "6276   Точно так же я не верю что тут есть проплаченн...      1\n",
       "795           ебать ты конченый, нахуя ты это постишь?\\n      1\n",
       "10979  фуры с тварями за рулем никак не передохнут!!!...      1\n",
       "5620   Просто ты пидор, поэтому тебя и посещают такие...      1"
      ]
     },
     "execution_count": 8,
     "metadata": {},
     "output_type": "execute_result"
    }
   ],
   "source": [
    "df[df[\"toxic\"] == 1].sample(5) #пример отрицательных комментариев"
   ]
  },
  {
   "cell_type": "code",
   "execution_count": 9,
   "id": "4b534cb8",
   "metadata": {},
   "outputs": [
    {
     "data": {
      "text/html": [
       "<div>\n",
       "<style scoped>\n",
       "    .dataframe tbody tr th:only-of-type {\n",
       "        vertical-align: middle;\n",
       "    }\n",
       "\n",
       "    .dataframe tbody tr th {\n",
       "        vertical-align: top;\n",
       "    }\n",
       "\n",
       "    .dataframe thead th {\n",
       "        text-align: right;\n",
       "    }\n",
       "</style>\n",
       "<table border=\"1\" class=\"dataframe\">\n",
       "  <thead>\n",
       "    <tr style=\"text-align: right;\">\n",
       "      <th></th>\n",
       "      <th>comment</th>\n",
       "      <th>toxic</th>\n",
       "    </tr>\n",
       "  </thead>\n",
       "  <tbody>\n",
       "    <tr>\n",
       "      <th>11482</th>\n",
       "      <td>номер 10 зарезервирован,но есть еще и другие н...</td>\n",
       "      <td>0</td>\n",
       "    </tr>\n",
       "    <tr>\n",
       "      <th>9330</th>\n",
       "      <td>Что мешает скачать музыку с вк и загрузить на ...</td>\n",
       "      <td>0</td>\n",
       "    </tr>\n",
       "    <tr>\n",
       "      <th>7292</th>\n",
       "      <td>У нас это строение является объектом культурно...</td>\n",
       "      <td>0</td>\n",
       "    </tr>\n",
       "    <tr>\n",
       "      <th>9256</th>\n",
       "      <td>Что-то не очень на клевер похоже. У клевера бо...</td>\n",
       "      <td>0</td>\n",
       "    </tr>\n",
       "    <tr>\n",
       "      <th>3241</th>\n",
       "      <td>У меня 2 места багажа по 23 кг по условиям тар...</td>\n",
       "      <td>0</td>\n",
       "    </tr>\n",
       "  </tbody>\n",
       "</table>\n",
       "</div>"
      ],
      "text/plain": [
       "                                                 comment  toxic\n",
       "11482  номер 10 зарезервирован,но есть еще и другие н...      0\n",
       "9330   Что мешает скачать музыку с вк и загрузить на ...      0\n",
       "7292   У нас это строение является объектом культурно...      0\n",
       "9256   Что-то не очень на клевер похоже. У клевера бо...      0\n",
       "3241   У меня 2 места багажа по 23 кг по условиям тар...      0"
      ]
     },
     "execution_count": 9,
     "metadata": {},
     "output_type": "execute_result"
    }
   ],
   "source": [
    "df[df[\"toxic\"] == 0].sample(5) #пример положительных комментариев"
   ]
  },
  {
   "cell_type": "code",
   "execution_count": 10,
   "id": "059d95da",
   "metadata": {},
   "outputs": [],
   "source": [
    "train_df, test_df = train_test_split(df, test_size=500) #разделим датасет на тренировочный и тестовый датасет"
   ]
  },
  {
   "cell_type": "code",
   "execution_count": 11,
   "id": "fc7425ab",
   "metadata": {},
   "outputs": [
    {
     "data": {
      "text/plain": [
       "((13912, 2), (500, 2))"
      ]
     },
     "execution_count": 11,
     "metadata": {},
     "output_type": "execute_result"
    }
   ],
   "source": [
    "train_df.shape, test_df.shape"
   ]
  },
  {
   "cell_type": "code",
   "execution_count": 12,
   "id": "8da63411",
   "metadata": {},
   "outputs": [
    {
     "data": {
      "text/plain": [
       "0    335\n",
       "1    165\n",
       "Name: toxic, dtype: int64"
      ]
     },
     "execution_count": 12,
     "metadata": {},
     "output_type": "execute_result"
    }
   ],
   "source": [
    "test_df[\"toxic\"].value_counts() "
   ]
  },
  {
   "cell_type": "code",
   "execution_count": 13,
   "id": "99ea606f",
   "metadata": {},
   "outputs": [
    {
     "data": {
      "text/plain": [
       "0    9251\n",
       "1    4661\n",
       "Name: toxic, dtype: int64"
      ]
     },
     "execution_count": 13,
     "metadata": {},
     "output_type": "execute_result"
    }
   ],
   "source": [
    "train_df[\"toxic\"].value_counts() "
   ]
  },
  {
   "cell_type": "markdown",
   "id": "4d8560e5",
   "metadata": {},
   "source": [
    "Отношения положительных и негативных комментариев"
   ]
  },
  {
   "cell_type": "markdown",
   "id": "159b6c87",
   "metadata": {},
   "source": [
    "Обратка данных, чтобы улычшить качество модели"
   ]
  },
  {
   "cell_type": "code",
   "execution_count": 14,
   "id": "bdb6740b",
   "metadata": {},
   "outputs": [],
   "source": [
    "def tokenize_sentence(sentence): #функция, которая обработает каждый коммментарий \n",
    "    tokens = word_tokenize(sentence, language=\"russian\") #разбиение на токены\n",
    "    tokens = [i for i in tokens if i not in string.punctuation] #избавляемся от пунктуации \n",
    "    tokens = [i for i in tokens if i not in stopwords.words(\"russian\")] #удаляем ненужные слова\n",
    "    tokens = [SnowballStemmer(language=\"russian\").stem(i) for i in tokens] #приводим к нижнему регистру и удаляем окончания\n",
    "    tokens = [i for i in tokens if len(i)>1] #игнорируем 1-символьные токены\n",
    "    return tokens"
   ]
  },
  {
   "cell_type": "code",
   "execution_count": 15,
   "id": "26e395f7",
   "metadata": {},
   "outputs": [
    {
     "data": {
      "text/plain": [
       "['страниц',\n",
       " 'обнов',\n",
       " 'деб',\n",
       " 'эт',\n",
       " 'оскорблен',\n",
       " 'доказа',\n",
       " 'факт',\n",
       " 'не-деб',\n",
       " 'множествен',\n",
       " 'числ',\n",
       " 'писа',\n",
       " 'ил',\n",
       " 'вер',\n",
       " 'эт',\n",
       " 'тво',\n",
       " 'вообража',\n",
       " 'друз']"
      ]
     },
     "execution_count": 15,
     "metadata": {},
     "output_type": "execute_result"
    }
   ],
   "source": [
    "sentence_example = df.iloc[3]['comment']\n",
    "tokenize_sentence(sentence_example) #токены после стемминга "
   ]
  },
  {
   "cell_type": "markdown",
   "id": "7f2b47b4",
   "metadata": {},
   "source": [
    "Обучение предсказывающей модели"
   ]
  },
  {
   "cell_type": "code",
   "execution_count": 16,
   "id": "73c9a0bb",
   "metadata": {},
   "outputs": [],
   "source": [
    "vectorizer = TfidfVectorizer(tokenizer=lambda x: tokenize_sentence(x)) #вычисление TF-IDF с заданным токенайзером"
   ]
  },
  {
   "cell_type": "code",
   "execution_count": 20,
   "id": "580c7602",
   "metadata": {},
   "outputs": [],
   "source": [
    "model_pipeline = Pipeline([(\"vectorizer\", vectorizer),(\"model\", LogisticRegression())])"
   ]
  },
  {
   "cell_type": "code",
   "execution_count": 21,
   "id": "22197416",
   "metadata": {},
   "outputs": [
    {
     "data": {
      "text/plain": [
       "Pipeline(steps=[('vectorizer',\n",
       "                 TfidfVectorizer(tokenizer=<function <lambda> at 0x0000018985B61DC0>)),\n",
       "                ('model', LogisticRegression())])"
      ]
     },
     "execution_count": 21,
     "metadata": {},
     "output_type": "execute_result"
    }
   ],
   "source": [
    "model_pipeline.fit(train_df['comment'], train_df['toxic'])"
   ]
  },
  {
   "cell_type": "code",
   "execution_count": 22,
   "id": "fcb6258b",
   "metadata": {},
   "outputs": [
    {
     "data": {
      "text/plain": [
       "array([1], dtype=int64)"
      ]
     },
     "execution_count": 22,
     "metadata": {},
     "output_type": "execute_result"
    }
   ],
   "source": [
    "model_pipeline.predict(['я с такими конченными не общаюсь'])"
   ]
  },
  {
   "cell_type": "markdown",
   "id": "e7f7169c",
   "metadata": {},
   "source": [
    "Прогоним модель по 3 метрикам."
   ]
  },
  {
   "cell_type": "code",
   "execution_count": 23,
   "id": "f67922eb",
   "metadata": {},
   "outputs": [
    {
     "data": {
      "text/plain": [
       "0.8782608695652174"
      ]
     },
     "execution_count": 23,
     "metadata": {},
     "output_type": "execute_result"
    }
   ],
   "source": [
    "precision_score(y_true=test_df[\"toxic\"], y_pred=model_pipeline.predict(test_df[\"comment\"])) #модель редко классифицирует обычные комментарии, как негативные"
   ]
  },
  {
   "cell_type": "code",
   "execution_count": 24,
   "id": "96f15271",
   "metadata": {},
   "outputs": [
    {
     "data": {
      "text/plain": [
       "0.6121212121212121"
      ]
     },
     "execution_count": 24,
     "metadata": {},
     "output_type": "execute_result"
    }
   ],
   "source": [
    "recall_score(y_true=test_df[\"toxic\"], y_pred=model_pipeline.predict(test_df[\"comment\"])) #много было незамеченных негативных комментариев"
   ]
  },
  {
   "cell_type": "code",
   "execution_count": 25,
   "id": "3bfffd1c",
   "metadata": {},
   "outputs": [
    {
     "data": {
      "text/plain": [
       "0.844"
      ]
     },
     "execution_count": 25,
     "metadata": {},
     "output_type": "execute_result"
    }
   ],
   "source": [
    "accuracy_score(y_true=test_df[\"toxic\"], y_pred=model_pipeline.predict(test_df[\"comment\"])) #точность предсказаниям по всем предиктам"
   ]
  },
  {
   "cell_type": "markdown",
   "id": "f02afd89",
   "metadata": {},
   "source": [
    "Постараюсь улучшить метрики с помощью GridSearch"
   ]
  },
  {
   "cell_type": "code",
   "execution_count": 36,
   "id": "2649af52",
   "metadata": {},
   "outputs": [],
   "source": [
    "grid_pipeline = Pipeline([\n",
    "    (\"vectorizer\", TfidfVectorizer(tokenizer=lambda x: tokenize_sentence(x))),\n",
    "    (\"model\", \n",
    "     GridSearchCV(\n",
    "        LogisticRegression(),\n",
    "        param_grid={'C': [0.1, 1, 10.]},\n",
    "        cv = 5, verbose=True, n_jobs=-1\n",
    "        )\n",
    "    )\n",
    "])"
   ]
  },
  {
   "cell_type": "code",
   "execution_count": 37,
   "id": "7b0ffb73",
   "metadata": {},
   "outputs": [
    {
     "name": "stdout",
     "output_type": "stream",
     "text": [
      "Fitting 5 folds for each of 3 candidates, totalling 15 fits\n"
     ]
    },
    {
     "name": "stderr",
     "output_type": "stream",
     "text": [
      "C:\\Users\\Admin\\anaconda3\\lib\\site-packages\\sklearn\\linear_model\\_logistic.py:763: ConvergenceWarning: lbfgs failed to converge (status=1):\n",
      "STOP: TOTAL NO. of ITERATIONS REACHED LIMIT.\n",
      "\n",
      "Increase the number of iterations (max_iter) or scale the data as shown in:\n",
      "    https://scikit-learn.org/stable/modules/preprocessing.html\n",
      "Please also refer to the documentation for alternative solver options:\n",
      "    https://scikit-learn.org/stable/modules/linear_model.html#logistic-regression\n",
      "  n_iter_i = _check_optimize_result(\n"
     ]
    },
    {
     "data": {
      "text/plain": [
       "Pipeline(steps=[('vectorizer',\n",
       "                 TfidfVectorizer(tokenizer=<function <lambda> at 0x0000018985FD91F0>)),\n",
       "                ('model',\n",
       "                 GridSearchCV(cv=5, estimator=LogisticRegression(), n_jobs=-1,\n",
       "                              param_grid={'C': [0.1, 1, 10.0]},\n",
       "                              verbose=True))])"
      ]
     },
     "execution_count": 37,
     "metadata": {},
     "output_type": "execute_result"
    }
   ],
   "source": [
    "grid_pipeline.fit(train_df['comment'], train_df['toxic'])"
   ]
  },
  {
   "cell_type": "code",
   "execution_count": 38,
   "id": "c32dad02",
   "metadata": {},
   "outputs": [
    {
     "data": {
      "text/plain": [
       "0.8592592592592593"
      ]
     },
     "execution_count": 38,
     "metadata": {},
     "output_type": "execute_result"
    }
   ],
   "source": [
    "precision_score(y_true=test_df[\"toxic\"], y_pred=grid_pipeline.predict(test_df[\"comment\"])) #модель редко классифицирует обычные комментарии, как негативные"
   ]
  },
  {
   "cell_type": "code",
   "execution_count": 39,
   "id": "1336d4c5",
   "metadata": {},
   "outputs": [
    {
     "data": {
      "text/plain": [
       "0.703030303030303"
      ]
     },
     "execution_count": 39,
     "metadata": {},
     "output_type": "execute_result"
    }
   ],
   "source": [
    "recall_score(y_true=test_df[\"toxic\"], y_pred=grid_pipeline.predict(test_df[\"comment\"])) #модель редко классифицирует обычные комментарии, как негативные"
   ]
  },
  {
   "cell_type": "code",
   "execution_count": 40,
   "id": "c79f09ec",
   "metadata": {},
   "outputs": [
    {
     "data": {
      "text/plain": [
       "0.864"
      ]
     },
     "execution_count": 40,
     "metadata": {},
     "output_type": "execute_result"
    }
   ],
   "source": [
    "accuracy_score(y_true=test_df[\"toxic\"], y_pred=grid_pipeline.predict(test_df[\"comment\"])) #модель редко классифицирует обычные комментарии, как негативные"
   ]
  },
  {
   "cell_type": "code",
   "execution_count": 128,
   "id": "516e36f5",
   "metadata": {},
   "outputs": [
    {
     "data": {
      "image/png": "[encoded data removed]",
      "text/plain": [
       "<Figure size 432x288 with 1 Axes>"
      ]
     },
     "metadata": {
      "needs_background": "light"
     },
     "output_type": "display_data"
    }
   ],
   "source": [
    "prec1, rec1, thresholds1 = precision_recall_curve(y_true=test_df[\"toxic\"], probas_pred=model_pipeline.predict_proba(test_df[\"comment\"])[:, 1])\n",
    " \n",
    "plot_precision_recall_curve(estimator=model_pipeline, X=test_df[\"comment\"], y=test_df[\"toxic\"])\n",
    "None"
   ]
  },
  {
   "cell_type": "code",
   "execution_count": 124,
   "id": "609840ca",
   "metadata": {},
   "outputs": [
    {
     "data": {
      "image/png": "[encoded data removed]",
      "text/plain": [
       "<Figure size 432x288 with 1 Axes>"
      ]
     },
     "metadata": {
      "needs_background": "light"
     },
     "output_type": "display_data"
    }
   ],
   "source": [
    "gr_prec, gr_rec, gr_thresholds = precision_recall_curve(y_true=test_df[\"toxic\"], probas_pred=grid_pipeline.predict_proba(test_df[\"comment\"])[:, 1])\n",
    " \n",
    "plot_precision_recall_curve(estimator=grid_pipeline, X=test_df[\"comment\"], y=test_df[\"toxic\"])\n",
    "None"
   ]
  },
  {
   "cell_type": "code",
   "execution_count": 123,
   "id": "ddd263f8",
   "metadata": {},
   "outputs": [
    {
     "name": "stdout",
     "output_type": "stream",
     "text": [
      "Valuation for model_pipeline:\n",
      "              precision    recall  f1-score   support\n",
      "\n",
      "           0       0.83      0.96      0.89       335\n",
      "           1       0.88      0.61      0.72       165\n",
      "\n",
      "    accuracy                           0.84       500\n",
      "   macro avg       0.86      0.79      0.81       500\n",
      "weighted avg       0.85      0.84      0.84       500\n",
      "\n",
      "----------------------------------------------------------------------\n",
      "Valuation for grid_pipeline:\n",
      "              precision    recall  f1-score   support\n",
      "\n",
      "           0       0.87      0.94      0.90       335\n",
      "           1       0.86      0.70      0.77       165\n",
      "\n",
      "    accuracy                           0.86       500\n",
      "   macro avg       0.86      0.82      0.84       500\n",
      "weighted avg       0.86      0.86      0.86       500\n",
      "\n"
     ]
    }
   ],
   "source": [
    "from sklearn.metrics import classification_report\n",
    "print('Valuation for model_pipeline:')\n",
    "print(classification_report(test_df[\"toxic\"], model_pipeline.predict(test_df[\"comment\"])))\n",
    "print(\"----------------------------------------------------------------------\")\n",
    "print('Valuation for grid_pipeline:')\n",
    "print(classification_report(test_df[\"toxic\"], grid_pipeline.predict(test_df[\"comment\"])))"
   ]
  },
  {
   "cell_type": "markdown",
   "id": "689068b3",
   "metadata": {},
   "source": [
    "Все средние значения увеличелись, удалось немного улучшить модель. "
   ]
  },
  {
   "cell_type": "code",
   "execution_count": 115,
   "id": "7d220549",
   "metadata": {},
   "outputs": [],
   "source": [
    "def plot_precision_recall_vs_threshold(precisions, recalls, thresholds):\n",
    "    recall_90_precision = recalls[np.argmax(precisions >= 0.9)]\n",
    "    threshold_90_precision = thresholds[np.argmax(precisions >= 0.9)]\n",
    "    \n",
    "    plt.plot(thresholds, precisions[:-1], \"b--\", label=\"Precision\", linewidth=2)\n",
    "    plt.plot(thresholds, recalls[:-1], \"g-\", label=\"Recall\", linewidth=2)\n",
    "    plt.xlabel(\"Threshold\")\n",
    "    plt.plot([threshold_90_precision, threshold_90_precision], [0., 0.9], \"r:\")\n",
    "    plt.axis([-1, 1, 0.4, 1])\n",
    "    plt.plot([-1, threshold_90_precision], [0.9, 0.9], \"r:\")\n",
    "    plt.plot([-1, threshold_90_precision], [recall_90_precision, recall_90_precision], \"r:\")\n",
    "    plt.plot([threshold_90_precision], [0.9], \"ro\") \n",
    "    plt.plot([threshold_90_precision], [recall_90_precision], \"ro\")\n",
    "    plt.grid(True)\n",
    "    plt.legend()\n",
    "    plt.show()"
   ]
  },
  {
   "cell_type": "code",
   "execution_count": 125,
   "id": "c8cdcc33",
   "metadata": {},
   "outputs": [
    {
     "data": {
      "image/png": "[encoded data removed]",
      "text/plain": [
       "<Figure size 432x288 with 1 Axes>"
      ]
     },
     "metadata": {
      "needs_background": "light"
     },
     "output_type": "display_data"
    }
   ],
   "source": [
    "plot_precision_recall_vs_threshold(gr_prec, gr_rec, gr_thresholds)"
   ]
  },
  {
   "cell_type": "code",
   "execution_count": null,
   "id": "d1afe16c",
   "metadata": {},
   "outputs": [],
   "source": []
  }
 ],
 "metadata": {
  "kernelspec": {
   "display_name": "Python 3",
   "language": "python",
   "name": "python3"
  },
  "language_info": {
   "codemirror_mode": {
    "name": "ipython",
    "version": 3
   },
   "file_extension": ".py",
   "mimetype": "text/x-python",
   "name": "python",
   "nbconvert_exporter": "python",
   "pygments_lexer": "ipython3",
   "version": "3.8.8"
  }
 },
 "nbformat": 4,
 "nbformat_minor": 5
}
